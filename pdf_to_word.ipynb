{
 "cells": [
  {
   "cell_type": "code",
   "execution_count": 2,
   "id": "4065c77f",
   "metadata": {},
   "outputs": [
    {
     "name": "stdout",
     "output_type": "stream",
     "text": [
      "Collecting PyPDF2\n",
      "  Downloading pypdf2-3.0.1-py3-none-any.whl (232 kB)\n",
      "     ---------------------------------------- 0.0/232.6 kB ? eta -:--:--\n",
      "     - -------------------------------------- 10.2/232.6 kB ? eta -:--:--\n",
      "     --- --------------------------------- 20.5/232.6 kB 108.9 kB/s eta 0:00:02\n",
      "     --- --------------------------------- 20.5/232.6 kB 108.9 kB/s eta 0:00:02\n",
      "     ---- -------------------------------- 30.7/232.6 kB 100.9 kB/s eta 0:00:03\n",
      "     ------ ------------------------------ 41.0/232.6 kB 103.4 kB/s eta 0:00:02\n",
      "     -------- ---------------------------- 51.2/232.6 kB 109.2 kB/s eta 0:00:02\n",
      "     -------------- ---------------------- 92.2/232.6 kB 141.7 kB/s eta 0:00:01\n",
      "     -------------- ---------------------- 92.2/232.6 kB 141.7 kB/s eta 0:00:01\n",
      "     --------------- -------------------- 102.4/232.6 kB 117.9 kB/s eta 0:00:02\n",
      "     --------------- -------------------- 102.4/232.6 kB 117.9 kB/s eta 0:00:02\n",
      "     --------------- -------------------- 102.4/232.6 kB 117.9 kB/s eta 0:00:02\n",
      "     ------------------- ---------------- 122.9/232.6 kB 106.0 kB/s eta 0:00:02\n",
      "     ------------------- ---------------- 122.9/232.6 kB 106.0 kB/s eta 0:00:02\n",
      "     ------------------- ---------------- 122.9/232.6 kB 106.0 kB/s eta 0:00:02\n",
      "     ---------------------- -------------- 143.4/232.6 kB 99.0 kB/s eta 0:00:01\n",
      "     ---------------------- -------------- 143.4/232.6 kB 99.0 kB/s eta 0:00:01\n",
      "     ------------------------ ------------ 153.6/232.6 kB 98.7 kB/s eta 0:00:01\n",
      "     -------------------------- --------- 174.1/232.6 kB 103.8 kB/s eta 0:00:01\n",
      "     -------------------------- --------- 174.1/232.6 kB 103.8 kB/s eta 0:00:01\n",
      "     -------------------------- --------- 174.1/232.6 kB 103.8 kB/s eta 0:00:01\n",
      "     -------------------------- --------- 174.1/232.6 kB 103.8 kB/s eta 0:00:01\n",
      "     ----------------------------- ------- 184.3/232.6 kB 93.6 kB/s eta 0:00:01\n",
      "     ----------------------------- ------- 184.3/232.6 kB 93.6 kB/s eta 0:00:01\n",
      "     ----------------------------- ------- 184.3/232.6 kB 93.6 kB/s eta 0:00:01\n",
      "     -------------------------------- ---- 204.8/232.6 kB 94.3 kB/s eta 0:00:01\n",
      "     ----------------------------------- - 225.3/232.6 kB 99.7 kB/s eta 0:00:01\n",
      "     ----------------------------------- - 225.3/232.6 kB 99.7 kB/s eta 0:00:01\n",
      "     ----------------------------------- - 225.3/232.6 kB 99.7 kB/s eta 0:00:01\n",
      "     ----------------------------------- - 225.3/232.6 kB 99.7 kB/s eta 0:00:01\n",
      "     ------------------------------------- 232.6/232.6 kB 91.8 kB/s eta 0:00:00\n",
      "Collecting python-docx\n",
      "  Downloading python_docx-1.1.0-py3-none-any.whl.metadata (2.0 kB)\n",
      "Requirement already satisfied: lxml>=3.1.0 in c:\\users\\dell\\anaconda3\\lib\\site-packages (from python-docx) (4.9.2)\n",
      "Requirement already satisfied: typing-extensions in c:\\users\\dell\\appdata\\roaming\\python\\python311\\site-packages (from python-docx) (4.8.0)\n",
      "Downloading python_docx-1.1.0-py3-none-any.whl (239 kB)\n",
      "   ---------------------------------------- 0.0/239.6 kB ? eta -:--:--\n",
      "   ---------------------------------------- 0.0/239.6 kB ? eta -:--:--\n",
      "   - -------------------------------------- 10.2/239.6 kB ? eta -:--:--\n",
      "   ----- --------------------------------- 30.7/239.6 kB 259.2 kB/s eta 0:00:01\n",
      "   ------ -------------------------------- 41.0/239.6 kB 195.7 kB/s eta 0:00:02\n",
      "   ---------- ---------------------------- 61.4/239.6 kB 204.8 kB/s eta 0:00:01\n",
      "   --------------- ----------------------- 92.2/239.6 kB 218.5 kB/s eta 0:00:01\n",
      "   ----------------- -------------------- 112.6/239.6 kB 242.7 kB/s eta 0:00:01\n",
      "   ----------------- -------------------- 112.6/239.6 kB 242.7 kB/s eta 0:00:01\n",
      "   ----------------- -------------------- 112.6/239.6 kB 242.7 kB/s eta 0:00:01\n",
      "   ---------------------- --------------- 143.4/239.6 kB 202.6 kB/s eta 0:00:01\n",
      "   ---------------------- --------------- 143.4/239.6 kB 202.6 kB/s eta 0:00:01\n",
      "   ------------------------------ ------- 194.6/239.6 kB 222.3 kB/s eta 0:00:01\n",
      "   -------------------------------- ----- 204.8/239.6 kB 230.5 kB/s eta 0:00:01\n",
      "   -------------------------------- ----- 204.8/239.6 kB 230.5 kB/s eta 0:00:01\n",
      "   -------------------------------------  235.5/239.6 kB 221.7 kB/s eta 0:00:01\n",
      "   -------------------------------------  235.5/239.6 kB 221.7 kB/s eta 0:00:01\n",
      "   -------------------------------------  235.5/239.6 kB 221.7 kB/s eta 0:00:01\n",
      "   -------------------------------------- 239.6/239.6 kB 181.2 kB/s eta 0:00:00\n",
      "Installing collected packages: python-docx, PyPDF2\n",
      "Successfully installed PyPDF2-3.0.1 python-docx-1.1.0\n"
     ]
    },
    {
     "name": "stderr",
     "output_type": "stream",
     "text": [
      "\n",
      "[notice] A new release of pip is available: 23.3.1 -> 23.3.2\n",
      "[notice] To update, run: python.exe -m pip install --upgrade pip\n"
     ]
    }
   ],
   "source": [
    "#install the required packages:\n",
    "\n",
    "!pip install PyPDF2 python-docx"
   ]
  },
  {
   "cell_type": "code",
   "execution_count": 1,
   "id": "82f67662",
   "metadata": {},
   "outputs": [],
   "source": [
    "import PyPDF2\n",
    "from docx import Document"
   ]
  },
  {
   "cell_type": "code",
   "execution_count": 6,
   "id": "7f71304d",
   "metadata": {},
   "outputs": [],
   "source": [
    "import PyPDF2\n",
    "from docx import Document\n",
    "\n",
    "def pdf_to_word(pdf_path, word_path):\n",
    "    # Open the PDF file\n",
    "    with open(pdf_path, 'rb') as pdf_file:\n",
    "        pdf_reader = PyPDF2.PdfReader(pdf_file)\n",
    "        \n",
    "        # Create a new Word document\n",
    "        doc = Document()\n",
    "        \n",
    "        # Loop through each page in the PDF\n",
    "        for page_num in range(len(pdf_reader.pages)):\n",
    "            page = pdf_reader.pages[page_num]\n",
    "            \n",
    "            # Extract text from the PDF page\n",
    "            text = page.extract_text()\n",
    "            \n",
    "            # Add the extracted text to the Word document\n",
    "            doc.add_paragraph(text)\n",
    "        \n",
    "        # Save the Word document\n",
    "        doc.save(word_path)\n",
    "        \n",
    "        print(f'PDF converted to Word: {word_path}')\n"
   ]
  },
  {
   "cell_type": "code",
   "execution_count": 5,
   "id": "e54ae69d",
   "metadata": {},
   "outputs": [
    {
     "name": "stdout",
     "output_type": "stream",
     "text": [
      "PDF converted to Word: output.docx\n"
     ]
    }
   ],
   "source": [
    "# Example usage\n",
    "pdf_to_word('sample.pdf', 'output.docx')"
   ]
  },
  {
   "cell_type": "code",
   "execution_count": null,
   "id": "b4fb4ab2",
   "metadata": {},
   "outputs": [],
   "source": []
  }
 ],
 "metadata": {
  "kernelspec": {
   "display_name": "Python 3 (ipykernel)",
   "language": "python",
   "name": "python3"
  },
  "language_info": {
   "codemirror_mode": {
    "name": "ipython",
    "version": 3
   },
   "file_extension": ".py",
   "mimetype": "text/x-python",
   "name": "python",
   "nbconvert_exporter": "python",
   "pygments_lexer": "ipython3",
   "version": "3.11.3"
  }
 },
 "nbformat": 4,
 "nbformat_minor": 5
}
